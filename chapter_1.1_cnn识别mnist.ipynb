{
 "cells": [
  {
   "cell_type": "markdown",
   "metadata": {},
   "source": [
    "# 使用卷积神经网络识别MNIST手写体数字"
   ]
  },
  {
   "cell_type": "markdown",
   "metadata": {},
   "source": [
    "## 一、项目说明"
   ]
  },
  {
   "cell_type": "markdown",
   "metadata": {},
   "source": [
    "本次案例，通过两种方式实现MNIST手写数字识别。"
   ]
  },
  {
   "cell_type": "markdown",
   "metadata": {},
   "source": [
    "## 二、数据准备"
   ]
  },
  {
   "cell_type": "markdown",
   "metadata": {},
   "source": [
    "2.1 引入需要使用的库"
   ]
  },
  {
   "cell_type": "code",
   "execution_count": 1,
   "metadata": {},
   "outputs": [
    {
     "name": "stdout",
     "output_type": "stream",
     "text": [
      "2.1.0\n",
      "WARNING:tensorflow:From <ipython-input-1-743817d2c383>:16: is_gpu_available (from tensorflow.python.framework.test_util) is deprecated and will be removed in a future version.\n",
      "Instructions for updating:\n",
      "Use `tf.config.list_physical_devices('GPU')` instead.\n",
      "False\n"
     ]
    }
   ],
   "source": [
    "import matplotlib as mpl\n",
    "import matplotlib.pyplot as plt\n",
    "import random\n",
    "import numpy as np\n",
    "import pandas as pd\n",
    "mpl.rcParams['font.size']=20\n",
    "mpl.rcParams['figure.titlesize'] = 20\n",
    "mpl.rcParams['figure.figsize'] = [3,7]\n",
    "mpl.rcParams['font.family']=['simhei']\n",
    "mpl.rcParams['axes.unicode_minus'] = False\n",
    "%matplotlib inline\n",
    "import tensorflow as tf\n",
    "from tensorflow import keras\n",
    "from tensorflow.keras import datasets,layers\n",
    "print(tf.__version__)\n",
    "print(tf.test.is_gpu_available())\n",
    "# import warnings\n",
    "# warnings.filterwarnings(\"ignore\")"
   ]
  },
  {
   "cell_type": "markdown",
   "metadata": {},
   "source": [
    "2.2 MNIST数据集介绍"
   ]
  },
  {
   "cell_type": "markdown",
   "metadata": {},
   "source": [
    "MNSIT手写数字识别，是一个类似于深度学习的“Hello World”入门项目。"
   ]
  },
  {
   "cell_type": "markdown",
   "metadata": {},
   "source": [
    "随机查看一下数据集中的图片："
   ]
  },
  {
   "cell_type": "code",
   "execution_count": 2,
   "metadata": {},
   "outputs": [
    {
     "name": "stdout",
     "output_type": "stream",
     "text": [
      "x: (60000, 28, 28) y: (60000,) x_test: (10000, 28, 28) y_test: (10000,)\n"
     ]
    }
   ],
   "source": [
    "(x,y),(x_test,y_test) = datasets.mnist.load_data()\n",
    "print('x:',x.shape,'y:',y.shape,'x_test:',x_test.shape,'y_test:',y_test.shape)"
   ]
  },
  {
   "cell_type": "code",
   "execution_count": 3,
   "metadata": {},
   "outputs": [
    {
     "name": "stdout",
     "output_type": "stream",
     "text": [
      "图片对应的数字 4\n"
     ]
    },
    {
     "data": {
      "image/png": "[encoded data removed]",
      "text/plain": [
       "<Figure size 432x288 with 1 Axes>"
      ]
     },
     "metadata": {
      "needs_background": "light"
     },
     "output_type": "display_data"
    }
   ],
   "source": [
    "index = random.randint(0, len(x))\n",
    "plt.figure()\n",
    "plt.imshow(x[index])\n",
    "print('图片对应的数字',y[index])"
   ]
  },
  {
   "cell_type": "markdown",
   "metadata": {},
   "source": [
    "2.3 数据处理"
   ]
  },
  {
   "cell_type": "code",
   "execution_count": 4,
   "metadata": {},
   "outputs": [],
   "source": [
    "# 预处理\n",
    "def preprocess(x,y):\n",
    "    print(x.shape, y.shape)\n",
    "    x = tf.cast(x, dtype=tf.float32) / 255.\n",
    "    x = tf.reshape(x, [-1, 28*28])\n",
    "    y=tf.cast(y, dtype=tf.int32)\n",
    "    y = tf.one_hot(y, depth=10)\n",
    "    \n",
    "    return x,y "
   ]
  },
  {
   "cell_type": "code",
   "execution_count": 5,
   "metadata": {},
   "outputs": [
    {
     "name": "stdout",
     "output_type": "stream",
     "text": [
      "(None, 28, 28) (None,)\n"
     ]
    }
   ],
   "source": [
    "# 通过 Dataset.from_tensor_slices 将训练部分的数据图片转换成Dataset对象\n",
    "# 随机打散\n",
    "batchsz = 512\n",
    "train_db = tf.data.Dataset.from_tensor_slices((x,y))\n",
    "train_db = train_db.shuffle(1000).batch(batchsz).map(preprocess).repeat(20)"
   ]
  },
  {
   "cell_type": "code",
   "execution_count": 6,
   "metadata": {},
   "outputs": [
    {
     "name": "stdout",
     "output_type": "stream",
     "text": [
      "train sample: (512, 784) (512, 10)\n"
     ]
    }
   ],
   "source": [
    "x, y = next(iter(train_db))\n",
    "print('train sample:', x.shape, y.shape)"
   ]
  },
  {
   "cell_type": "code",
   "execution_count": 7,
   "metadata": {},
   "outputs": [
    {
     "name": "stdout",
     "output_type": "stream",
     "text": [
      "(None, 28, 28) (None,)\n"
     ]
    }
   ],
   "source": [
    "test_db = tf.data.Dataset.from_tensor_slices((x_test,y_test))\n",
    "test_db = test_db.shuffle(1000).batch(batchsz).map(preprocess)"
   ]
  },
  {
   "cell_type": "markdown",
   "metadata": {},
   "source": [
    "## 三、模型搭建"
   ]
  },
  {
   "cell_type": "code",
   "execution_count": 8,
   "metadata": {
    "scrolled": true
   },
   "outputs": [
    {
     "name": "stdout",
     "output_type": "stream",
     "text": [
      "0 loss: 0.7479828000068665\n",
      "0 Evaluate Acc: 0.0717\n",
      "80 loss: 0.1941160261631012\n",
      "80 Evaluate Acc: 0.1966\n",
      "160 loss: 0.14924101531505585\n",
      "160 Evaluate Acc: 0.2923\n",
      "240 loss: 0.12567868828773499\n",
      "240 Evaluate Acc: 0.3703\n",
      "320 loss: 0.11462888866662979\n",
      "320 Evaluate Acc: 0.4282\n",
      "400 loss: 0.10512051731348038\n",
      "400 Evaluate Acc: 0.4751\n",
      "480 loss: 0.09820780903100967\n",
      "480 Evaluate Acc: 0.5117\n",
      "560 loss: 0.09505506604909897\n",
      "560 Evaluate Acc: 0.5386\n",
      "640 loss: 0.0884239450097084\n",
      "640 Evaluate Acc: 0.5614\n",
      "720 loss: 0.08164054900407791\n",
      "720 Evaluate Acc: 0.5815\n",
      "800 loss: 0.08105506747961044\n",
      "800 Evaluate Acc: 0.6002\n",
      "880 loss: 0.07548630982637405\n",
      "880 Evaluate Acc: 0.6179\n",
      "960 loss: 0.0788445919752121\n",
      "960 Evaluate Acc: 0.631\n",
      "1040 loss: 0.07629778236150742\n",
      "1040 Evaluate Acc: 0.6439\n",
      "1120 loss: 0.0713794082403183\n",
      "1120 Evaluate Acc: 0.6547\n",
      "1200 loss: 0.0668473169207573\n",
      "1200 Evaluate Acc: 0.6653\n",
      "1280 loss: 0.0697622150182724\n",
      "1280 Evaluate Acc: 0.6757\n",
      "1360 loss: 0.07314433157444\n",
      "1360 Evaluate Acc: 0.6859\n",
      "1440 loss: 0.0661335363984108\n",
      "1440 Evaluate Acc: 0.6937\n",
      "1520 loss: 0.06332410871982574\n",
      "1520 Evaluate Acc: 0.7038\n",
      "1600 loss: 0.0639251321554184\n",
      "1600 Evaluate Acc: 0.7129\n",
      "1680 loss: 0.06410849094390869\n",
      "1680 Evaluate Acc: 0.7207\n",
      "1760 loss: 0.059109847992658615\n",
      "1760 Evaluate Acc: 0.7253\n",
      "1840 loss: 0.05921999365091324\n",
      "1840 Evaluate Acc: 0.7329\n",
      "1920 loss: 0.06357710808515549\n",
      "1920 Evaluate Acc: 0.7381\n",
      "2000 loss: 0.05813370272517204\n",
      "2000 Evaluate Acc: 0.7428\n",
      "2080 loss: 0.05716925859451294\n",
      "2080 Evaluate Acc: 0.7494\n",
      "2160 loss: 0.055961061269044876\n",
      "2160 Evaluate Acc: 0.7545\n",
      "2240 loss: 0.053271323442459106\n",
      "2240 Evaluate Acc: 0.758\n",
      "2320 loss: 0.05581917613744736\n",
      "2320 Evaluate Acc: 0.764\n"
     ]
    },
    {
     "data": {
      "image/png": "[encoded data removed]",
      "text/plain": [
       "<Figure size 432x288 with 1 Axes>"
      ]
     },
     "metadata": {
      "needs_background": "light"
     },
     "output_type": "display_data"
    },
    {
     "data": {
      "image/png": "[encoded data removed]",
      "text/plain": [
       "<Figure size 432x288 with 1 Axes>"
      ]
     },
     "metadata": {
      "needs_background": "light"
     },
     "output_type": "display_data"
    }
   ],
   "source": [
    "def main(lr=1e-2):\n",
    "    #learning rate\n",
    "    # lr = 1e-2\n",
    "    accs, losses = [], []\n",
    "    \n",
    "    # 784 -> 256\n",
    "    w1, b1 = tf.Variable(tf.random.normal([784,256],stddev=0.1)), tf.Variable(tf.zeros([256]))\n",
    "    # 256 -> 128\n",
    "    w2, b2 = tf.Variable(tf.random.normal([256,128],stddev=0.1)), tf.Variable(tf.zeros([128]))\n",
    "    # 128 -> 10\n",
    "    w3, b3 = tf.Variable(tf.random.normal([128,10],stddev=0.1)), tf.Variable(tf.zeros([10]))\n",
    "    \n",
    "    for step, (x,y) in enumerate(train_db):\n",
    "        # [b, 28,28] =>[b, 784]\n",
    "        x=tf.reshape(x, (-1, 784))\n",
    "        with tf.GradientTape() as tape:\n",
    "            # layer1\n",
    "            h1 = x @ w1 + b1\n",
    "            h1 = tf.nn.relu(h1)\n",
    "            # layer2\n",
    "            h2 = h1 @ w2 + b2\n",
    "            h2 = tf.nn.relu(h2)\n",
    "            \n",
    "            # output\n",
    "            out = h2 @ w3 + b3\n",
    "            \n",
    "            # compute loss\n",
    "            # [b, 10] - [b, 10]\n",
    "            loss = tf.square(y-out) # 均方差\n",
    "            # [b, 10] => scalar\n",
    "            loss = tf.reduce_mean(loss)\n",
    "            \n",
    "        grads = tape.gradient(loss, [w1, b1, w2, b2, w3, b3])\n",
    "        for p,g in zip([w1, b1, w2, b2, w3, b3], grads):\n",
    "            p.assign_sub(lr * g)\n",
    "            \n",
    "        # print\n",
    "        if step % 80 == 0:\n",
    "            print(step, 'loss:', float(loss))\n",
    "            losses.append(float(loss))\n",
    "        \n",
    "        if step % 80 ==0:\n",
    "            # evaluate/test\n",
    "            total, total_correct = 0., 0\n",
    "            for x, y in test_db:\n",
    "                # layer1\n",
    "                h1 = x @ w1 + b1\n",
    "                h1 = tf.nn.relu(h1)\n",
    "                # layer2\n",
    "                h2 = h1 @ w2 + b2\n",
    "                h2 = tf.nn.relu(h2)\n",
    "                # output\n",
    "                out = h2 @ w3 + b3\n",
    "                # [b, 10] -> [b]\n",
    "                pred = tf.argmax(out, axis=1)\n",
    "                # convert ont_hot y to nuber y\n",
    "                y = tf.argmax(y, axis=1)\n",
    "                # bool type\n",
    "                correct = tf.equal(pred, y)\n",
    "                # bool tensor -> int tensor -> numpy\n",
    "                total_correct += tf.reduce_sum(tf.cast(correct, dtype=tf.int32)).numpy()\n",
    "                total += x.shape[0]\n",
    "            \n",
    "            print(step, 'Evaluate Acc:', total_correct/total)\n",
    "            \n",
    "            accs.append(total_correct/total)\n",
    "            \n",
    "    plt.figure()\n",
    "    x = [i*80 for i in range(len(losses))]\n",
    "    plt.plot(x, losses, color='C0', marker='s', label='训练')\n",
    "    plt.ylabel('MSE')\n",
    "    plt.xlabel('Step')\n",
    "    plt.legend()\n",
    "    plt.savefig('train.svg')\n",
    "\n",
    "    plt.figure()\n",
    "    plt.plot(x, accs, color='C1', marker='s', label='测试')\n",
    "    plt.ylabel('准确率')\n",
    "    plt.xlabel('Step')\n",
    "    plt.legend()\n",
    "    plt.savefig('test.svg')\n",
    "\n",
    "main()"
   ]
  },
  {
   "cell_type": "code",
   "execution_count": null,
   "metadata": {
    "scrolled": true
   },
   "outputs": [],
   "source": [
    "# main(lr=0.02)"
   ]
  },
  {
   "cell_type": "code",
   "execution_count": null,
   "metadata": {
    "scrolled": true
   },
   "outputs": [],
   "source": [
    "# main(0.03)"
   ]
  },
  {
   "cell_type": "markdown",
   "metadata": {},
   "source": [
    "## 四、使用keras的API搭建网络(全连接层)"
   ]
  },
  {
   "cell_type": "code",
   "execution_count": 9,
   "metadata": {},
   "outputs": [],
   "source": [
    "(x,y),(x_test,y_test) = datasets.mnist.load_data()\n",
    "# 搭建模型\n",
    "model = keras.models.Sequential([\n",
    "    keras.layers.Flatten(input_shape=[28, 28]),\n",
    "    keras.layers.Dense(300, activation='selu'),\n",
    "    keras.layers.Dense(100, activation='selu'),\n",
    "    keras.layers.Dense(10, activation='softmax')\n",
    "])\n",
    "'''\n",
    "model = keras.models.Sequential()\n",
    "model.add(keras.layers.Flatten(input_shape=[28, 28]))\n",
    "model.add(keras.layers.Dense(300, activation='relu'))\n",
    "model.add(keras.layers.Dense(100, activation='relu'))\n",
    "model.add(keras.layers.Dense(10, activation='softmax'))\n",
    "'''\n",
    "model.compile(loss='sparse_categorical_crossentropy',\n",
    "             optimizer='adam',# 目标函数调整方法\n",
    "#                 std\n",
    "             metrics = ['accuracy'])"
   ]
  },
  {
   "cell_type": "code",
   "execution_count": 10,
   "metadata": {},
   "outputs": [
    {
     "name": "stdout",
     "output_type": "stream",
     "text": [
      "Model: \"sequential\"\n",
      "_________________________________________________________________\n",
      "Layer (type)                 Output Shape              Param #   \n",
      "=================================================================\n",
      "flatten (Flatten)            (None, 784)               0         \n",
      "_________________________________________________________________\n",
      "dense (Dense)                (None, 300)               235500    \n",
      "_________________________________________________________________\n",
      "dense_1 (Dense)              (None, 100)               30100     \n",
      "_________________________________________________________________\n",
      "dense_2 (Dense)              (None, 10)                1010      \n",
      "=================================================================\n",
      "Total params: 266,610\n",
      "Trainable params: 266,610\n",
      "Non-trainable params: 0\n",
      "_________________________________________________________________\n"
     ]
    }
   ],
   "source": [
    "model.summary()"
   ]
  },
  {
   "cell_type": "code",
   "execution_count": 11,
   "metadata": {
    "scrolled": false
   },
   "outputs": [
    {
     "data": {
      "text/plain": [
       "[<tensorflow.python.keras.layers.core.Flatten at 0x190e1f756c8>,\n",
       " <tensorflow.python.keras.layers.core.Dense at 0x190e1d9dbc8>,\n",
       " <tensorflow.python.keras.layers.core.Dense at 0x190e1d80588>,\n",
       " <tensorflow.python.keras.layers.core.Dense at 0x190e2039c48>]"
      ]
     },
     "execution_count": 11,
     "metadata": {},
     "output_type": "execute_result"
    }
   ],
   "source": [
    "model.layers"
   ]
  },
  {
   "cell_type": "code",
   "execution_count": 12,
   "metadata": {
    "scrolled": false
   },
   "outputs": [
    {
     "name": "stdout",
     "output_type": "stream",
     "text": [
      "Train on 60000 samples\n",
      "Epoch 1/10\n",
      "60000/60000 [==============================] - 3s 45us/sample - loss: 1.3033 - accuracy: 0.8321\n",
      "Epoch 2/10\n",
      "60000/60000 [==============================] - 2s 39us/sample - loss: 0.3066 - accuracy: 0.9240\n",
      "Epoch 3/10\n",
      "60000/60000 [==============================] - 2s 39us/sample - loss: 0.2042 - accuracy: 0.9457\n",
      "Epoch 4/10\n",
      "60000/60000 [==============================] - 2s 40us/sample - loss: 0.1636 - accuracy: 0.9567\n",
      "Epoch 5/10\n",
      "60000/60000 [==============================] - 2s 39us/sample - loss: 0.1416 - accuracy: 0.9628\n",
      "Epoch 6/10\n",
      "60000/60000 [==============================] - 2s 39us/sample - loss: 0.1224 - accuracy: 0.9682\n",
      "Epoch 7/10\n",
      "60000/60000 [==============================] - 2s 39us/sample - loss: 0.1157 - accuracy: 0.9720\n",
      "Epoch 8/10\n",
      "60000/60000 [==============================] - 2s 39us/sample - loss: 0.1042 - accuracy: 0.9746\n",
      "Epoch 9/10\n",
      "60000/60000 [==============================] - 2s 40us/sample - loss: 0.0994 - accuracy: 0.9762\n",
      "Epoch 10/10\n",
      "60000/60000 [==============================] - 2s 39us/sample - loss: 0.0939 - accuracy: 0.9766\n"
     ]
    }
   ],
   "source": [
    "history = model.fit(x, y, epochs=10)"
   ]
  },
  {
   "cell_type": "code",
   "execution_count": 13,
   "metadata": {},
   "outputs": [
    {
     "name": "stdout",
     "output_type": "stream",
     "text": [
      "10000/10000 [==============================] - 0s 31us/sample - loss: 0.1273 - accuracy: 0.9738\n",
      "[0.12734866554984473, 0.9738]\n"
     ]
    }
   ],
   "source": [
    "evaluation = model.evaluate(x_test,y_test)\n",
    "print(evaluation)"
   ]
  },
  {
   "cell_type": "code",
   "execution_count": 14,
   "metadata": {},
   "outputs": [
    {
     "data": {
      "image/png": "[encoded data removed]",
      "text/plain": [
       "<Figure size 576x360 with 1 Axes>"
      ]
     },
     "metadata": {
      "needs_background": "light"
     },
     "output_type": "display_data"
    }
   ],
   "source": [
    "def plot_learning_curves(history):\n",
    "    pd.DataFrame(history.history).plot(figsize=(8,5))\n",
    "    plt.grid(True) # 网格\n",
    "    plt.gca().set_ylim(0,1)\n",
    "    plt.show()\n",
    "\n",
    "plot_learning_curves(history)"
   ]
  },
  {
   "cell_type": "code",
   "execution_count": 15,
   "metadata": {},
   "outputs": [],
   "source": [
    "x=x/255."
   ]
  },
  {
   "cell_type": "code",
   "execution_count": 16,
   "metadata": {},
   "outputs": [],
   "source": [
    "# 搭建模型\n",
    "model = keras.models.Sequential([\n",
    "    keras.layers.Flatten(input_shape=[28, 28]),\n",
    "    keras.layers.Dense(300, activation='selu'),\n",
    "    keras.layers.Dense(100, activation='selu'),\n",
    "    keras.layers.Dense(10, activation='softmax')\n",
    "])\n",
    "model.compile(loss='sparse_categorical_crossentropy',\n",
    "             optimizer='adam',# 目标函数调整方法\n",
    "             metrics = ['accuracy'])"
   ]
  },
  {
   "cell_type": "code",
   "execution_count": 17,
   "metadata": {},
   "outputs": [
    {
     "name": "stdout",
     "output_type": "stream",
     "text": [
      "Train on 60000 samples\n",
      "Epoch 1/10\n",
      "60000/60000 [==============================] - 3s 44us/sample - loss: 0.2488 - accuracy: 0.9252\n",
      "Epoch 2/10\n",
      "60000/60000 [==============================] - 2s 38us/sample - loss: 0.1230 - accuracy: 0.9616\n",
      "Epoch 3/10\n",
      "60000/60000 [==============================] - 2s 40us/sample - loss: 0.0932 - accuracy: 0.9711\n",
      "Epoch 4/10\n",
      "60000/60000 [==============================] - 2s 40us/sample - loss: 0.0700 - accuracy: 0.9778\n",
      "Epoch 5/10\n",
      "60000/60000 [==============================] - 2s 38us/sample - loss: 0.0578 - accuracy: 0.9810\n",
      "Epoch 6/10\n",
      "60000/60000 [==============================] - 2s 40us/sample - loss: 0.0507 - accuracy: 0.9826\n",
      "Epoch 7/10\n",
      "60000/60000 [==============================] - 2s 39us/sample - loss: 0.0415 - accuracy: 0.9866\n",
      "Epoch 8/10\n",
      "60000/60000 [==============================] - 2s 40us/sample - loss: 0.0404 - accuracy: 0.9867\n",
      "Epoch 9/10\n",
      "60000/60000 [==============================] - 2s 39us/sample - loss: 0.0310 - accuracy: 0.9899\n",
      "Epoch 10/10\n",
      "60000/60000 [==============================] - 2s 39us/sample - loss: 0.0320 - accuracy: 0.9898\n"
     ]
    }
   ],
   "source": [
    "history = model.fit(x, y, epochs=10)"
   ]
  },
  {
   "cell_type": "code",
   "execution_count": 18,
   "metadata": {},
   "outputs": [
    {
     "data": {
      "image/png": "[encoded data removed]",
      "text/plain": [
       "<Figure size 576x360 with 1 Axes>"
      ]
     },
     "metadata": {
      "needs_background": "light"
     },
     "output_type": "display_data"
    }
   ],
   "source": [
    "plot_learning_curves(history)"
   ]
  },
  {
   "cell_type": "code",
   "execution_count": 19,
   "metadata": {},
   "outputs": [
    {
     "name": "stdout",
     "output_type": "stream",
     "text": [
      "10000/10000 [==============================] - 0s 29us/sample - loss: 0.0995 - accuracy: 0.9766\n",
      "[0.09952929154243188, 0.9766]\n"
     ]
    }
   ],
   "source": [
    "x_test=x_test/255.\n",
    "evaluation = model.evaluate(x_test,y_test)\n",
    "print(evaluation)"
   ]
  },
  {
   "cell_type": "markdown",
   "metadata": {},
   "source": [
    "## 五、使用keras的API搭建网络(卷积神经)"
   ]
  },
  {
   "cell_type": "code",
   "execution_count": 20,
   "metadata": {},
   "outputs": [],
   "source": [
    "# 导入数据\n",
    "(x,y),(x_test,y_test) = datasets.mnist.load_data()"
   ]
  },
  {
   "cell_type": "code",
   "execution_count": 21,
   "metadata": {},
   "outputs": [],
   "source": [
    "# 对X进行类型转换和归一化\n",
    "x_train = x.reshape(x.shape[0],28,28,1).astype('float32')\n",
    "x_test = x_test.reshape(x_test.shape[0],28,28,1).astype('float32')"
   ]
  },
  {
   "cell_type": "code",
   "execution_count": 22,
   "metadata": {},
   "outputs": [],
   "source": [
    "x_train /= 255.\n",
    "x_test /= 255."
   ]
  },
  {
   "cell_type": "code",
   "execution_count": 23,
   "metadata": {},
   "outputs": [
    {
     "data": {
      "text/plain": [
       "5"
      ]
     },
     "execution_count": 23,
     "metadata": {},
     "output_type": "execute_result"
    }
   ],
   "source": [
    "y[0]"
   ]
  },
  {
   "cell_type": "code",
   "execution_count": 24,
   "metadata": {},
   "outputs": [
    {
     "data": {
      "text/plain": [
       "(28, 28, 1)"
      ]
     },
     "execution_count": 24,
     "metadata": {},
     "output_type": "execute_result"
    }
   ],
   "source": [
    "x_train[0].shape"
   ]
  },
  {
   "cell_type": "code",
   "execution_count": 25,
   "metadata": {},
   "outputs": [
    {
     "name": "stdout",
     "output_type": "stream",
     "text": [
      "Model: \"sequential_2\"\n",
      "_________________________________________________________________\n",
      "Layer (type)                 Output Shape              Param #   \n",
      "=================================================================\n",
      "conv2d (Conv2D)              multiple                  360       \n",
      "_________________________________________________________________\n",
      "max_pooling2d (MaxPooling2D) multiple                  0         \n",
      "_________________________________________________________________\n",
      "re_lu (ReLU)                 multiple                  0         \n",
      "_________________________________________________________________\n",
      "conv2d_1 (Conv2D)            multiple                  21450     \n",
      "_________________________________________________________________\n",
      "max_pooling2d_1 (MaxPooling2 multiple                  0         \n",
      "_________________________________________________________________\n",
      "re_lu_1 (ReLU)               multiple                  0         \n",
      "_________________________________________________________________\n",
      "flatten_2 (Flatten)          multiple                  0         \n",
      "_________________________________________________________________\n",
      "dense_6 (Dense)              multiple                  198120    \n",
      "_________________________________________________________________\n",
      "dense_7 (Dense)              multiple                  10164     \n",
      "_________________________________________________________________\n",
      "dense_8 (Dense)              multiple                  850       \n",
      "=================================================================\n",
      "Total params: 230,944\n",
      "Trainable params: 230,944\n",
      "Non-trainable params: 0\n",
      "_________________________________________________________________\n"
     ]
    }
   ],
   "source": [
    "# 定义网络结构，搭建模型\n",
    "model = keras.models.Sequential([ # 网络容器\n",
    "    layers.Conv2D(36,kernel_size=3,strides=1), # 第一个卷积层, 6个3x3卷积核\n",
    "    layers.MaxPooling2D(pool_size=2,strides=2), # 高宽各减半的池化层\n",
    "    layers.ReLU(), # 激活函数\n",
    "    layers.Conv2D(66,kernel_size=3,strides=1), # 第二个卷积层, 16个3x3卷积核\n",
    "    layers.MaxPooling2D(pool_size=2,strides=2), # 高宽各减半的池化层\n",
    "    layers.ReLU(), # 激活函数\n",
    "    layers.Flatten(), # 打平层，方便全连接层处理\n",
    "\n",
    "    layers.Dense(120, activation='relu'), # 全连接层，120个节点\n",
    "    layers.Dense(84, activation='relu'), # 全连接层，84节点\n",
    "    layers.Dense(10,activation='softmax') # 全连接层，10个节点\n",
    "                    ])\n",
    "# build一次网络模型，给输入X的形状，其中4为随意给的batchsz\n",
    "model.build(input_shape=(4, 28, 28, 1)) # 32 64 128\n",
    "# 统计网络信息\n",
    "model.summary()"
   ]
  },
  {
   "cell_type": "code",
   "execution_count": 26,
   "metadata": {},
   "outputs": [
    {
     "data": {
      "text/plain": [
       "[<tensorflow.python.keras.layers.convolutional.Conv2D at 0x190fe435cc8>,\n",
       " <tensorflow.python.keras.layers.pooling.MaxPooling2D at 0x190fe433908>,\n",
       " <tensorflow.python.keras.layers.advanced_activations.ReLU at 0x190e67a6f48>,\n",
       " <tensorflow.python.keras.layers.convolutional.Conv2D at 0x190e68c5e08>,\n",
       " <tensorflow.python.keras.layers.pooling.MaxPooling2D at 0x190e6897748>,\n",
       " <tensorflow.python.keras.layers.advanced_activations.ReLU at 0x190fe43a288>,\n",
       " <tensorflow.python.keras.layers.core.Flatten at 0x190fe43a688>,\n",
       " <tensorflow.python.keras.layers.core.Dense at 0x190fe43ab08>,\n",
       " <tensorflow.python.keras.layers.core.Dense at 0x190fe441108>,\n",
       " <tensorflow.python.keras.layers.core.Dense at 0x190fe441648>]"
      ]
     },
     "execution_count": 26,
     "metadata": {},
     "output_type": "execute_result"
    }
   ],
   "source": [
    "model.layers"
   ]
  },
  {
   "cell_type": "code",
   "execution_count": 27,
   "metadata": {},
   "outputs": [],
   "source": [
    "model.compile(\n",
    "    loss='sparse_categorical_crossentropy',\n",
    "#     optimizer='Adadelta',\n",
    "    optimizer='adam',\n",
    "    metrics=['accuracy']\n",
    "    )"
   ]
  },
  {
   "cell_type": "code",
   "execution_count": 28,
   "metadata": {},
   "outputs": [],
   "source": [
    "# import os\n",
    "# os.environ[\"CUDA_DEVICE_ORDER\"] = \"PCI_BUS_ID\"\n",
    "# os.environ['CUDA_VISIBLE_DEVICES'] = \"0,1\" #选择哪一块gpu,如果是-1，就是调用cpu"
   ]
  },
  {
   "cell_type": "code",
   "execution_count": 29,
   "metadata": {
    "scrolled": false
   },
   "outputs": [
    {
     "name": "stdout",
     "output_type": "stream",
     "text": [
      "Train on 60000 samples\n",
      "Epoch 1/10\n",
      "60000/60000 [==============================] - 16s 260us/sample - loss: 0.1546 - accuracy: 0.9526\n",
      "Epoch 2/10\n",
      "60000/60000 [==============================] - 16s 274us/sample - loss: 0.0477 - accuracy: 0.9850\n",
      "Epoch 3/10\n",
      "60000/60000 [==============================] - 16s 272us/sample - loss: 0.0319 - accuracy: 0.9896\n",
      "Epoch 4/10\n",
      "60000/60000 [==============================] - 16s 269us/sample - loss: 0.0244 - accuracy: 0.9922\n",
      "Epoch 5/10\n",
      "60000/60000 [==============================] - 16s 273us/sample - loss: 0.0186 - accuracy: 0.9937\n",
      "Epoch 6/10\n",
      "60000/60000 [==============================] - 17s 285us/sample - loss: 0.0153 - accuracy: 0.9954\n",
      "Epoch 7/10\n",
      "60000/60000 [==============================] - 16s 272us/sample - loss: 0.0119 - accuracy: 0.9961\n",
      "Epoch 8/10\n",
      "60000/60000 [==============================] - 17s 279us/sample - loss: 0.0089 - accuracy: 0.9969\n",
      "Epoch 9/10\n",
      "60000/60000 [==============================] - 16s 271us/sample - loss: 0.0087 - accuracy: 0.9971\n",
      "Epoch 10/10\n",
      "60000/60000 [==============================] - 16s 270us/sample - loss: 0.0080 - accuracy: 0.9973\n"
     ]
    },
    {
     "data": {
      "text/plain": [
       "<tensorflow.python.keras.callbacks.History at 0x19080064f48>"
      ]
     },
     "execution_count": 29,
     "metadata": {},
     "output_type": "execute_result"
    }
   ],
   "source": [
    "model.fit(x_train, y, batch_size=50, epochs=10)\n"
   ]
  },
  {
   "cell_type": "code",
   "execution_count": 30,
   "metadata": {},
   "outputs": [
    {
     "name": "stdout",
     "output_type": "stream",
     "text": [
      "10000/10000 [==============================] - 1s 103us/sample - loss: 0.0382 - accuracy: 0.9910\n",
      "[0.03823280554570401, 0.991]\n"
     ]
    }
   ],
   "source": [
    "evaluation = model.evaluate(x_test,y_test)\n",
    "print(evaluation)"
   ]
  },
  {
   "cell_type": "code",
   "execution_count": null,
   "metadata": {},
   "outputs": [],
   "source": [
    " "
   ]
  }
 ],
 "metadata": {
  "kernelspec": {
   "display_name": "Python 3",
   "language": "python",
   "name": "python3"
  },
  "language_info": {
   "codemirror_mode": {
    "name": "ipython",
    "version": 3
   },
   "file_extension": ".py",
   "mimetype": "text/x-python",
   "name": "python",
   "nbconvert_exporter": "python",
   "pygments_lexer": "ipython3",
   "version": "3.7.7"
  }
 },
 "nbformat": 4,
 "nbformat_minor": 2
}
